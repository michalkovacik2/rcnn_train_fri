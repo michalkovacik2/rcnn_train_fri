{
  "nbformat": 4,
  "nbformat_minor": 0,
  "metadata": {
    "colab": {
      "name": "Copy of Detectron2.ipynb",
      "provenance": [],
      "collapsed_sections": []
    },
    "kernelspec": {
      "name": "python3",
      "display_name": "Python 3"
    },
    "language_info": {
      "name": "python"
    },
    "accelerator": "GPU"
  },
  "cells": [
    {
      "cell_type": "markdown",
      "source": [
        "**Stiahnutie potrebnych balickov pre fungovanie detectronu2.**"
      ],
      "metadata": {
        "id": "enz0tEqcgYQx"
      }
    },
    {
      "cell_type": "code",
      "metadata": {
        "id": "GftaMiZYvijB"
      },
      "source": [
        "!pip install cython pyyaml==6.0 pycocotools>=2.0.2\n",
        "!pip install torch==1.8.1 torchvision==0.9.1 torchtext==0.9.1 -f https://download.pytorch.org/whl/cu101/torch_stable.html -q\n",
        "!pip install opencv-contrib-python\n",
        "!pip install dlib\n",
        "!python -m pip install detectron2 -f https://dl.fbaipublicfiles.com/detectron2/wheels/cu101/torch1.8/index.html\n"
      ],
      "execution_count": null,
      "outputs": []
    },
    {
      "cell_type": "markdown",
      "source": [
        "**Aku graficku kartu nam pridelil colab. A pytorch verzia a ci je dostupna grafika.**"
      ],
      "metadata": {
        "id": "W89vglbEkz71"
      }
    },
    {
      "cell_type": "code",
      "metadata": {
        "id": "-28HZ5pjy_3j"
      },
      "source": [
        "!nvidia-smi\n",
        "# Check PyTorch version and GPU\n",
        "import torch, torchvision\n",
        "print(torch.__version__, torch.cuda.is_available())"
      ],
      "execution_count": null,
      "outputs": []
    },
    {
      "cell_type": "markdown",
      "source": [
        "**Pripojenie google drive ku colabu.**"
      ],
      "metadata": {
        "id": "b9JmrwGylMa_"
      }
    },
    {
      "cell_type": "code",
      "metadata": {
        "id": "naTkZiLGzCg4"
      },
      "source": [
        "from google.colab import drive\n",
        "drive.mount('/content/drive')\n",
        "!ls /content/drive"
      ],
      "execution_count": null,
      "outputs": []
    },
    {
      "cell_type": "markdown",
      "source": [
        "Cesta ku priecinku na drive, kde je ulozene: **train.py, images.zip, train-annotations-bbox-truncated.csv, validation-annotations-bbox-truncated**"
      ],
      "metadata": {
        "id": "LrtMf259lfSe"
      }
    },
    {
      "cell_type": "code",
      "metadata": {
        "id": "QOaF4Av7zYn7"
      },
      "source": [
        "# Path to data what we copy\n",
        "DRIVE_DIR = '/content/drive/MyDrive/projekt1/detectron2/'"
      ],
      "execution_count": null,
      "outputs": []
    },
    {
      "cell_type": "markdown",
      "source": [
        "**Skopirovanie obsahu z drive na colab.**"
      ],
      "metadata": {
        "id": "xX4ePJ02l7A8"
      }
    },
    {
      "cell_type": "code",
      "metadata": {
        "id": "JTU7ChOEz1kz"
      },
      "source": [
        "%cd /content\n",
        "!cp -a {DRIVE_DIR} .\n",
        "%cd detectron2/\n",
        "!unzip images.zip"
      ],
      "execution_count": null,
      "outputs": []
    },
    {
      "cell_type": "markdown",
      "source": [
        "**Trening**\n",
        "\n",
        "--train_annot_fp - CSV s treningovymi datami\n",
        "\n",
        "--val_annot_fp   - CSV s validacnymi datami\n",
        "\n",
        "--model          - aky model z faster-rcnn pouzijeme na trening\n",
        "\n",
        "--max_iter       - maximalny pocet iteracii co bude bezat trening\n",
        "\n",
        "--lr             - learning rate\n",
        "\n",
        "--gamma          - learning rate sa znizi o gammu ak prekroci millestone "
      ],
      "metadata": {
        "id": "PQGMtT4MmEig"
      }
    },
    {
      "cell_type": "code",
      "source": [
        "!python train.py \\\n",
        "    --train \\\n",
        "    --train_annot_fp \"./train-annotations-bbox-truncated.csv\" \\\n",
        "    --val_annot_fp \"./validation-annotations-bbox-truncated.csv\" \\\n",
        "    --model \"faster_rcnn_R_50_FPN_3x\" \\\n",
        "    --max_iter 60000 \\\n",
        "    --lr 5e-4 \\\n",
        "    --gamma 0.5 \\\n",
        "    --checkpoint_period 5000 \\\n",
        "    --output_dir \"/content/drive/MyDrive/projekt1/output/\""
      ],
      "metadata": {
        "id": "1yoyP3k48esv"
      },
      "execution_count": null,
      "outputs": []
    }
  ]
}